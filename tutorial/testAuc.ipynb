{
 "cells": [
  {
   "cell_type": "code",
   "execution_count": 1,
   "metadata": {},
   "outputs": [],
   "source": [
    "from sklearn.metrics import roc_auc_score\n",
    "import torch\n",
    "from torchvision.transforms import Compose, Normalize, Resize, ToTensor\n",
    "from torch.optim import SGD\n",
    "from torch.nn import BCELoss\n",
    "import torch.utils.model_zoo as model_zoo\n",
    "from cxrlib.models import guan_resnet_ag\n",
    "from cxrlib.read_data import ChestXrayDataSet\n",
    "from cxrlib.results import compute_AUCs"
   ]
  },
  {
   "cell_type": "code",
   "execution_count": 2,
   "metadata": {},
   "outputs": [],
   "source": [
    "cur = 17"
   ]
  },
  {
   "cell_type": "code",
   "execution_count": 3,
   "metadata": {},
   "outputs": [],
   "source": [
    "__all__ = ['ResNet', 'resnet18', 'resnet34', 'resnet50', 'resnet101',\n",
    "           'resnet152']"
   ]
  },
  {
   "cell_type": "code",
   "execution_count": 4,
   "metadata": {},
   "outputs": [],
   "source": [
    "log = open(\"auc.txt\",\"a\")\n",
    "model_urls = {\n",
    "    'resnet18': 'https://download.pytorch.org/models/resnet18-5c106cde.pth',\n",
    "    'resnet34': 'https://download.pytorch.org/models/resnet34-333f7ec4.pth',\n",
    "    'resnet50': 'https://download.pytorch.org/models/resnet50-19c8e357.pth',\n",
    "    'resnet101': 'https://download.pytorch.org/models/resnet101-5d3b4d8f.pth',\n",
    "    'resnet152': 'https://download.pytorch.org/models/resnet152-b121ed2d.pth',\n",
    "}"
   ]
  },
  {
   "cell_type": "code",
   "execution_count": 5,
   "metadata": {},
   "outputs": [],
   "source": [
    "model = guan_resnet_ag.GuanResNet50_TwoAG().cuda()\n",
    "model = torch.nn.DataParallel(model)\n",
    "model.load_state_dict(torch.load(str(cur)))"
   ]
  },
  {
   "cell_type": "code",
   "execution_count": 6,
   "metadata": {
    "scrolled": true
   },
   "outputs": [
    {
     "name": "stderr",
     "output_type": "stream",
     "text": [
      "/home/minh/anaconda3/lib/python3.6/site-packages/torch/nn/functional.py:1890: UserWarning: nn.functional.upsample is deprecated. Use nn.functional.interpolate instead.\n",
      "  warnings.warn(\"nn.functional.upsample is deprecated. Use nn.functional.interpolate instead.\")\n",
      "/home/minh/anaconda3/lib/python3.6/site-packages/torch/nn/functional.py:1961: UserWarning: Default upsampling behavior when mode=bilinear is changed to align_corners=False since 0.4.0. Please specify align_corners=True if the old behavior is desired. See the documentation of nn.Upsample for details.\n",
      "  \"See the documentation of nn.Upsample for details.\".format(mode))\n",
      "/home/minh/anaconda3/lib/python3.6/site-packages/torch/nn/functional.py:1006: UserWarning: nn.functional.sigmoid is deprecated. Use torch.sigmoid instead.\n",
      "  warnings.warn(\"nn.functional.sigmoid is deprecated. Use torch.sigmoid instead.\")\n"
     ]
    },
    {
     "name": "stdout",
     "output_type": "stream",
     "text": [
      "AUC Results: 0.678778165100956\n"
     ]
    }
   ],
   "source": [
    "batch_n = 0\n",
    "normalize = Normalize([0.485, 0.456, 0.406],\n",
    "                  [0.229, 0.224, 0.225])\n",
    "test_dataset = ChestXrayDataSet('/media/minh/UStorage/chestxray14/images',\n",
    "                            '/media/minh/UStorage/chestxray14/labels/test_list.processed',\n",
    "                            transform=Compose([Resize(224), ToTensor(), normalize]))\n",
    "loader = torch.utils.data.DataLoader(test_dataset, batch_size=1)\n",
    "gt = torch.FloatTensor().cuda()\n",
    "pred = torch.FloatTensor().cuda() \n",
    "model.eval()\n",
    "\n",
    "for i in range(1,2):\n",
    "    for inp, target in loader:\n",
    "        target = torch.autograd.Variable(target).cuda()\n",
    "        inp = torch.autograd.Variable(inp).cuda()\n",
    "        out = model(inp)\n",
    "        # Add results of the model's output to the aggregated prediction vector, and also add aggregated\n",
    "        # ground truth information as well\n",
    "        pred = torch.cat((pred, out.data), 0)\n",
    "        gt = torch.cat((gt, target.data), 0)\n",
    "        #print(batch_n)\n",
    "        #if batch_n > max_batches:\n",
    "        #    break\n",
    "        batch_n += 1\n",
    "\n",
    "    # Compute the model area under curve (AUC).\n",
    "    auc = compute_AUCs(gt, pred)\n",
    "    print(\"AUC Results: {}\".format(sum(auc) / len(auc)))\n",
    "    log.write(\"\\n============\\n\")\n",
    "    log.write(str(sum(auc)/len(auc)))\n",
    "    log.write('\\n'+str(cur))\n",
    "    log.write(\"\\n============\\n\")\n",
    "    del test_dataset\n",
    "    del loader\n",
    "    del model\n",
    "    del gt\n",
    "    del pred"
   ]
  },
  {
   "cell_type": "code",
   "execution_count": 7,
   "metadata": {},
   "outputs": [
    {
     "data": {
      "text/plain": [
       "[0.6768438397061782,\n",
       " 0.684170587973476,\n",
       " 0.7345902207917128,\n",
       " 0.6520573062499395,\n",
       " 0.5915761805124292,\n",
       " 0.5779218811551164,\n",
       " 0.614153940690421,\n",
       " 0.7133103282438882,\n",
       " 0.6896306088743902,\n",
       " 0.7903370737280997,\n",
       " 0.6445943900888734,\n",
       " 0.7076637945881398,\n",
       " 0.659505500920061,\n",
       " 0.7665386578906586]"
      ]
     },
     "execution_count": 7,
     "metadata": {},
     "output_type": "execute_result"
    }
   ],
   "source": [
    "auc"
   ]
  },
  {
   "cell_type": "code",
   "execution_count": 8,
   "metadata": {},
   "outputs": [
    {
     "data": {
      "text/plain": [
       "0.6837054404065707"
      ]
     },
     "execution_count": 8,
     "metadata": {},
     "output_type": "execute_result"
    }
   ],
   "source": [
    "0.6837054404065707"
   ]
  },
  {
   "cell_type": "code",
   "execution_count": 9,
   "metadata": {},
   "outputs": [
    {
     "data": {
      "text/plain": [
       "0.6867063861304776"
      ]
     },
     "execution_count": 9,
     "metadata": {},
     "output_type": "execute_result"
    }
   ],
   "source": [
    "0.6867063861304776"
   ]
  }
 ],
 "metadata": {
  "kernelspec": {
   "display_name": "Python 3",
   "language": "python",
   "name": "python3"
  },
  "language_info": {
   "codemirror_mode": {
    "name": "ipython",
    "version": 3
   },
   "file_extension": ".py",
   "mimetype": "text/x-python",
   "name": "python",
   "nbconvert_exporter": "python",
   "pygments_lexer": "ipython3",
   "version": "3.6.5"
  }
 },
 "nbformat": 4,
 "nbformat_minor": 2
}
